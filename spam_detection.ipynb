{
 "cells": [
  {
   "cell_type": "markdown",
   "metadata": {},
   "source": [
    "# import necessary library"
   ]
  },
  {
   "cell_type": "code",
   "execution_count": 1,
   "metadata": {},
   "outputs": [],
   "source": [
    "import numpy as np\n",
    "import pandas as pd\n",
    "import matplotlib.pyplot as plt\n",
    "from sklearn.model_selection import train_test_split\n",
    "from tensorflow import keras"
   ]
  },
  {
   "cell_type": "markdown",
   "metadata": {},
   "source": [
    "# load dataset"
   ]
  },
  {
   "cell_type": "code",
   "execution_count": 2,
   "metadata": {},
   "outputs": [],
   "source": [
    "df = pd.read_csv('spam.csv', encoding='ISO-8859-1')\n",
    "df = df[['v1', 'v2']]"
   ]
  },
  {
   "cell_type": "code",
   "execution_count": 3,
   "metadata": {},
   "outputs": [],
   "source": [
    "df.columns = ['labels', 'texts']"
   ]
  },
  {
   "cell_type": "code",
   "execution_count": 4,
   "metadata": {},
   "outputs": [],
   "source": [
    "df['spam'] = df['labels'].map({'ham': 0, 'spam': 1})\n",
    "texts = df['texts'].values\n",
    "labels = df['spam'].values"
   ]
  },
  {
   "cell_type": "code",
   "execution_count": 5,
   "metadata": {},
   "outputs": [
    {
     "data": {
      "text/plain": [
       "910"
      ]
     },
     "execution_count": 5,
     "metadata": {},
     "output_type": "execute_result"
    }
   ],
   "source": [
    "maxLength = max(map(lambda x: len(x), texts))\n",
    "maxLength"
   ]
  },
  {
   "cell_type": "markdown",
   "metadata": {},
   "source": [
    "# make tokenizer"
   ]
  },
  {
   "cell_type": "code",
   "execution_count": 6,
   "metadata": {},
   "outputs": [],
   "source": [
    "maxWordInSeq = 1000\n",
    "embedDim = 100"
   ]
  },
  {
   "cell_type": "code",
   "execution_count": 7,
   "metadata": {},
   "outputs": [],
   "source": [
    "tokenizer = keras.preprocessing.text.Tokenizer()\n",
    "tokenizer.fit_on_texts(texts)\n",
    "sequence = tokenizer.texts_to_sequences(texts)"
   ]
  },
  {
   "cell_type": "code",
   "execution_count": 8,
   "metadata": {},
   "outputs": [
    {
     "name": "stdout",
     "output_type": "stream",
     "text": [
      "the total of unique tokens are 8920\n"
     ]
    }
   ],
   "source": [
    "word2Index = tokenizer.word_index\n",
    "numWord = len(word2Index)\n",
    "print(f'the total of unique tokens are {numWord}')"
   ]
  },
  {
   "cell_type": "markdown",
   "metadata": {},
   "source": [
    "# split datasets"
   ]
  },
  {
   "cell_type": "code",
   "execution_count": 9,
   "metadata": {},
   "outputs": [],
   "source": [
    "data = keras.utils.pad_sequences(sequences=sequence, maxlen=maxWordInSeq, padding='post', truncating='post')\n",
    "xTrain, xTest, yTrain, yTest = train_test_split(data, labels, train_size=0.8, random_state=42, stratify=labels)"
   ]
  },
  {
   "cell_type": "markdown",
   "metadata": {},
   "source": [
    "# build algorithm"
   ]
  },
  {
   "cell_type": "code",
   "execution_count": 10,
   "metadata": {},
   "outputs": [],
   "source": [
    "inputSeq = keras.layers.Input(shape=[maxWordInSeq, ], dtype='int32')\n",
    "embedSeq = keras.layers.Embedding(numWord+1, embedDim, input_length=maxWordInSeq)(inputSeq)\n",
    "\n",
    "conv_1 = keras.layers.Conv1D(32, 3, activation=keras.activations.relu)(embedSeq)\n",
    "conv_1 = keras.layers.MaxPooling1D(pool_size=3)(conv_1)\n",
    "conv_2 = keras.layers.Conv1D(64, 3, activation=keras.activations.relu)(conv_1)\n",
    "conv_2 = keras.layers.MaxPooling1D(pool_size=3)(conv_2)\n",
    "conv_3 = keras.layers.Conv1D(128, 3, activation=keras.activations.relu)(conv_2)\n",
    "conv_3 = keras.layers.MaxPooling1D(pool_size=3)(conv_3)\n",
    "flat = keras.layers.Flatten()(conv_3)\n",
    "dense_flat = keras.layers.Dense(128, activation=keras.activations.relu)(flat)\n",
    "dense = keras.layers.Dense(1, activation=keras.activations.sigmoid)(dense_flat)\n",
    "\n",
    "model = keras.models.Model(inputSeq, dense)\n",
    "model.compile(optimizer=keras.optimizers.Adam(), loss=keras.losses.BinaryCrossentropy(), metrics=keras.metrics.Accuracy())"
   ]
  },
  {
   "cell_type": "code",
   "execution_count": 11,
   "metadata": {},
   "outputs": [
    {
     "name": "stdout",
     "output_type": "stream",
     "text": [
      "Epoch 1/10\n",
      "140/140 [==============================] - 24s 146ms/step - loss: 0.2690 - accuracy: 0.0000e+00 - val_loss: 0.0531 - val_accuracy: 0.0000e+00\n",
      "Epoch 2/10\n",
      "140/140 [==============================] - 19s 137ms/step - loss: 0.0328 - accuracy: 0.0000e+00 - val_loss: 0.0471 - val_accuracy: 0.0000e+00\n",
      "Epoch 3/10\n",
      "140/140 [==============================] - 19s 137ms/step - loss: 0.0064 - accuracy: 0.0000e+00 - val_loss: 0.0609 - val_accuracy: 0.0000e+00\n",
      "Epoch 4/10\n",
      "140/140 [==============================] - 18s 129ms/step - loss: 0.0018 - accuracy: 0.0000e+00 - val_loss: 0.0722 - val_accuracy: 0.0000e+00\n",
      "Epoch 5/10\n",
      "140/140 [==============================] - 18s 126ms/step - loss: 1.8502e-04 - accuracy: 2.2437e-04 - val_loss: 0.0819 - val_accuracy: 0.0000e+00\n",
      "Epoch 6/10\n",
      "140/140 [==============================] - 18s 127ms/step - loss: 2.4132e-05 - accuracy: 0.0013 - val_loss: 0.0937 - val_accuracy: 0.0000e+00\n",
      "Epoch 7/10\n",
      "140/140 [==============================] - 18s 125ms/step - loss: 1.3025e-05 - accuracy: 0.0038 - val_loss: 0.0970 - val_accuracy: 0.0018\n",
      "Epoch 8/10\n",
      "140/140 [==============================] - 18s 126ms/step - loss: 8.2846e-06 - accuracy: 0.0065 - val_loss: 0.1033 - val_accuracy: 0.0081\n",
      "Epoch 9/10\n",
      "140/140 [==============================] - 18s 126ms/step - loss: 4.9965e-06 - accuracy: 0.0119 - val_loss: 0.1108 - val_accuracy: 0.0135\n",
      "Epoch 10/10\n",
      "140/140 [==============================] - 17s 124ms/step - loss: 3.4935e-06 - accuracy: 0.0137 - val_loss: 0.1131 - val_accuracy: 0.0188\n"
     ]
    },
    {
     "data": {
      "text/plain": [
       "<keras.callbacks.History at 0x27dff5b6ed0>"
      ]
     },
     "execution_count": 11,
     "metadata": {},
     "output_type": "execute_result"
    }
   ],
   "source": [
    "model.fit(x=xTrain, y=yTrain, epochs=10, validation_data=[xTest, yTest])"
   ]
  },
  {
   "cell_type": "code",
   "execution_count": 12,
   "metadata": {},
   "outputs": [
    {
     "data": {
      "image/png": "[encoded data removed]",
      "text/plain": [
       "<Figure size 1600x400 with 1 Axes>"
      ]
     },
     "metadata": {},
     "output_type": "display_data"
    }
   ],
   "source": [
    "pd.DataFrame(model.history.history).plot(figsize=(16, 4))\n",
    "plt.show()"
   ]
  },
  {
   "cell_type": "code",
   "execution_count": 13,
   "metadata": {},
   "outputs": [
    {
     "name": "stdout",
     "output_type": "stream",
     "text": [
      "35/35 [==============================] - 1s 29ms/step\n"
     ]
    }
   ],
   "source": [
    "prediction = (model.predict(xTest)).round()"
   ]
  },
  {
   "cell_type": "markdown",
   "metadata": {},
   "source": [
    "# model evaluation"
   ]
  },
  {
   "cell_type": "code",
   "execution_count": 14,
   "metadata": {},
   "outputs": [],
   "source": [
    "from sklearn.metrics import classification_report, ConfusionMatrixDisplay"
   ]
  },
  {
   "cell_type": "code",
   "execution_count": 15,
   "metadata": {},
   "outputs": [
    {
     "name": "stdout",
     "output_type": "stream",
     "text": [
      "              precision    recall  f1-score   support\n",
      "\n",
      "           0       0.99      0.99      0.99       966\n",
      "           1       0.97      0.93      0.95       149\n",
      "\n",
      "    accuracy                           0.99      1115\n",
      "   macro avg       0.98      0.96      0.97      1115\n",
      "weighted avg       0.99      0.99      0.99      1115\n",
      "\n"
     ]
    }
   ],
   "source": [
    "print(classification_report(yTest, prediction))"
   ]
  },
  {
   "cell_type": "code",
   "execution_count": 16,
   "metadata": {},
   "outputs": [
    {
     "data": {
      "image/png": "[encoded data removed]",
      "text/plain": [
       "<Figure size 640x480 with 2 Axes>"
      ]
     },
     "metadata": {},
     "output_type": "display_data"
    }
   ],
   "source": [
    "ConfusionMatrixDisplay.from_predictions(yTest, prediction)\n",
    "plt.show()"
   ]
  }
 ],
 "metadata": {
  "kernelspec": {
   "display_name": "Python 3",
   "language": "python",
   "name": "python3"
  },
  "language_info": {
   "codemirror_mode": {
    "name": "ipython",
    "version": 3
   },
   "file_extension": ".py",
   "mimetype": "text/x-python",
   "name": "python",
   "nbconvert_exporter": "python",
   "pygments_lexer": "ipython3",
   "version": "3.11.2"
  },
  "orig_nbformat": 4
 },
 "nbformat": 4,
 "nbformat_minor": 2
}
