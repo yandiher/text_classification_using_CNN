{
 "cells": [
  {
   "cell_type": "markdown",
   "metadata": {},
   "source": [
    "# import necessary library"
   ]
  },
  {
   "cell_type": "code",
   "execution_count": 22,
   "metadata": {},
   "outputs": [],
   "source": [
    "import numpy as np\n",
    "import pandas as pd\n",
    "import matplotlib.pyplot as plt\n",
    "from sklearn.model_selection import train_test_split\n",
    "from tensorflow import keras"
   ]
  },
  {
   "cell_type": "markdown",
   "metadata": {},
   "source": [
    "# load dataset"
   ]
  },
  {
   "cell_type": "code",
   "execution_count": 23,
   "metadata": {},
   "outputs": [],
   "source": [
    "df = pd.read_csv('spam.csv', encoding='ISO-8859-1')\n",
    "df = df[['v1', 'v2']]"
   ]
  },
  {
   "cell_type": "code",
   "execution_count": 24,
   "metadata": {},
   "outputs": [],
   "source": [
    "df.columns = ['labels', 'texts']"
   ]
  },
  {
   "cell_type": "markdown",
   "metadata": {},
   "source": [
    "# data exploratory"
   ]
  },
  {
   "cell_type": "code",
   "execution_count": 25,
   "metadata": {},
   "outputs": [
    {
     "data": {
      "text/html": [
       "<div>\n",
       "<style scoped>\n",
       "    .dataframe tbody tr th:only-of-type {\n",
       "        vertical-align: middle;\n",
       "    }\n",
       "\n",
       "    .dataframe tbody tr th {\n",
       "        vertical-align: top;\n",
       "    }\n",
       "\n",
       "    .dataframe thead th {\n",
       "        text-align: right;\n",
       "    }\n",
       "</style>\n",
       "<table border=\"1\" class=\"dataframe\">\n",
       "  <thead>\n",
       "    <tr style=\"text-align: right;\">\n",
       "      <th></th>\n",
       "      <th>labels</th>\n",
       "      <th>texts</th>\n",
       "    </tr>\n",
       "  </thead>\n",
       "  <tbody>\n",
       "    <tr>\n",
       "      <th>0</th>\n",
       "      <td>ham</td>\n",
       "      <td>Go until jurong point, crazy.. Available only ...</td>\n",
       "    </tr>\n",
       "    <tr>\n",
       "      <th>1</th>\n",
       "      <td>ham</td>\n",
       "      <td>Ok lar... Joking wif u oni...</td>\n",
       "    </tr>\n",
       "    <tr>\n",
       "      <th>2</th>\n",
       "      <td>spam</td>\n",
       "      <td>Free entry in 2 a wkly comp to win FA Cup fina...</td>\n",
       "    </tr>\n",
       "    <tr>\n",
       "      <th>3</th>\n",
       "      <td>ham</td>\n",
       "      <td>U dun say so early hor... U c already then say...</td>\n",
       "    </tr>\n",
       "    <tr>\n",
       "      <th>4</th>\n",
       "      <td>ham</td>\n",
       "      <td>Nah I don't think he goes to usf, he lives aro...</td>\n",
       "    </tr>\n",
       "  </tbody>\n",
       "</table>\n",
       "</div>"
      ],
      "text/plain": [
       "  labels                                              texts\n",
       "0    ham  Go until jurong point, crazy.. Available only ...\n",
       "1    ham                      Ok lar... Joking wif u oni...\n",
       "2   spam  Free entry in 2 a wkly comp to win FA Cup fina...\n",
       "3    ham  U dun say so early hor... U c already then say...\n",
       "4    ham  Nah I don't think he goes to usf, he lives aro..."
      ]
     },
     "execution_count": 25,
     "metadata": {},
     "output_type": "execute_result"
    }
   ],
   "source": [
    "df.head()"
   ]
  },
  {
   "cell_type": "code",
   "execution_count": 26,
   "metadata": {},
   "outputs": [
    {
     "data": {
      "text/plain": [
       "ham     4825\n",
       "spam     747\n",
       "Name: labels, dtype: int64"
      ]
     },
     "execution_count": 26,
     "metadata": {},
     "output_type": "execute_result"
    }
   ],
   "source": [
    "df['labels'].value_counts()"
   ]
  },
  {
   "cell_type": "code",
   "execution_count": 27,
   "metadata": {},
   "outputs": [
    {
     "data": {
      "text/plain": [
       "labels    0\n",
       "texts     0\n",
       "dtype: int64"
      ]
     },
     "execution_count": 27,
     "metadata": {},
     "output_type": "execute_result"
    }
   ],
   "source": [
    "df.isna().sum()"
   ]
  },
  {
   "cell_type": "markdown",
   "metadata": {},
   "source": [
    "# data preprocessing"
   ]
  },
  {
   "cell_type": "code",
   "execution_count": 28,
   "metadata": {},
   "outputs": [],
   "source": [
    "df['spam'] = df['labels'].map({'ham': 0, 'spam': 1})\n",
    "texts = df['texts'].values\n",
    "labels = df['spam'].values"
   ]
  },
  {
   "cell_type": "code",
   "execution_count": 29,
   "metadata": {},
   "outputs": [
    {
     "data": {
      "text/plain": [
       "910"
      ]
     },
     "execution_count": 29,
     "metadata": {},
     "output_type": "execute_result"
    }
   ],
   "source": [
    "maxLength = max(map(lambda x: len(x), texts))\n",
    "maxLength"
   ]
  },
  {
   "cell_type": "markdown",
   "metadata": {},
   "source": [
    "# make tokenizer"
   ]
  },
  {
   "cell_type": "code",
   "execution_count": 30,
   "metadata": {},
   "outputs": [],
   "source": [
    "maxWordInSeq = 1000\n",
    "embedDim = 100"
   ]
  },
  {
   "cell_type": "code",
   "execution_count": 31,
   "metadata": {},
   "outputs": [],
   "source": [
    "tokenizer = keras.preprocessing.text.Tokenizer()\n",
    "tokenizer.fit_on_texts(texts)\n",
    "sequence = tokenizer.texts_to_sequences(texts)"
   ]
  },
  {
   "cell_type": "code",
   "execution_count": 32,
   "metadata": {},
   "outputs": [
    {
     "name": "stdout",
     "output_type": "stream",
     "text": [
      "the total of unique tokens are 8920\n"
     ]
    }
   ],
   "source": [
    "word2Index = tokenizer.word_index\n",
    "numWord = len(word2Index)\n",
    "print(f'the total of unique tokens are {numWord}')"
   ]
  },
  {
   "cell_type": "markdown",
   "metadata": {},
   "source": [
    "# split datasets"
   ]
  },
  {
   "cell_type": "code",
   "execution_count": 33,
   "metadata": {},
   "outputs": [],
   "source": [
    "data = keras.utils.pad_sequences(sequences=sequence, maxlen=maxWordInSeq, padding='post', truncating='post')\n",
    "xTrain, xTest, yTrain, yTest = train_test_split(data, labels, train_size=0.8, random_state=42, stratify=labels)"
   ]
  },
  {
   "cell_type": "markdown",
   "metadata": {},
   "source": [
    "# build algorithm"
   ]
  },
  {
   "cell_type": "code",
   "execution_count": 34,
   "metadata": {},
   "outputs": [],
   "source": [
    "inputSeq = keras.layers.Input(shape=[maxWordInSeq, ], dtype='int32')\n",
    "embedSeq = keras.layers.Embedding(numWord+1, embedDim, input_length=maxWordInSeq)(inputSeq)\n",
    "\n",
    "conv_1 = keras.layers.Conv1D(32, 3, activation=keras.activations.relu)(embedSeq)\n",
    "conv_1 = keras.layers.MaxPooling1D(pool_size=3)(conv_1)\n",
    "conv_2 = keras.layers.Conv1D(64, 3, activation=keras.activations.relu)(conv_1)\n",
    "conv_2 = keras.layers.MaxPooling1D(pool_size=3)(conv_2)\n",
    "conv_3 = keras.layers.Conv1D(128, 3, activation=keras.activations.relu)(conv_2)\n",
    "conv_3 = keras.layers.MaxPooling1D(pool_size=3)(conv_3)\n",
    "flat = keras.layers.Flatten()(conv_3)\n",
    "dense_flat = keras.layers.Dense(128, activation=keras.activations.relu)(flat)\n",
    "dense = keras.layers.Dense(1, activation=keras.activations.sigmoid)(dense_flat)\n",
    "\n",
    "model = keras.models.Model(inputSeq, dense)\n",
    "model.compile(optimizer=keras.optimizers.Adam(), loss=keras.losses.BinaryCrossentropy(), metrics=keras.metrics.Accuracy())"
   ]
  },
  {
   "cell_type": "code",
   "execution_count": 35,
   "metadata": {},
   "outputs": [
    {
     "name": "stdout",
     "output_type": "stream",
     "text": [
      "Epoch 1/10\n",
      "140/140 [==============================] - 27s 172ms/step - loss: 0.2504 - accuracy: 0.0000e+00 - val_loss: 0.0555 - val_accuracy: 0.0000e+00\n",
      "Epoch 2/10\n",
      "140/140 [==============================] - 26s 188ms/step - loss: 0.0377 - accuracy: 0.0000e+00 - val_loss: 0.0600 - val_accuracy: 0.0000e+00\n",
      "Epoch 3/10\n",
      "140/140 [==============================] - 24s 170ms/step - loss: 0.0103 - accuracy: 0.0000e+00 - val_loss: 0.0788 - val_accuracy: 0.0000e+00\n",
      "Epoch 4/10\n",
      "140/140 [==============================] - 21s 147ms/step - loss: 0.0057 - accuracy: 0.0011 - val_loss: 0.0617 - val_accuracy: 0.0000e+00\n",
      "Epoch 5/10\n",
      "140/140 [==============================] - 21s 151ms/step - loss: 0.0025 - accuracy: 0.0013 - val_loss: 0.0531 - val_accuracy: 0.0027\n",
      "Epoch 6/10\n",
      "140/140 [==============================] - 21s 150ms/step - loss: 0.0021 - accuracy: 0.0108 - val_loss: 0.0602 - val_accuracy: 0.0179\n",
      "Epoch 7/10\n",
      "140/140 [==============================] - 19s 136ms/step - loss: 0.0024 - accuracy: 0.0166 - val_loss: 0.0615 - val_accuracy: 0.0090\n",
      "Epoch 8/10\n",
      "140/140 [==============================] - 19s 133ms/step - loss: 0.0018 - accuracy: 0.0285 - val_loss: 0.0560 - val_accuracy: 0.0556\n",
      "Epoch 9/10\n",
      "140/140 [==============================] - 21s 152ms/step - loss: 0.0021 - accuracy: 0.0673 - val_loss: 0.0583 - val_accuracy: 0.0628\n",
      "Epoch 10/10\n",
      "140/140 [==============================] - 17s 122ms/step - loss: 0.0013 - accuracy: 0.0696 - val_loss: 0.0770 - val_accuracy: 0.0700\n"
     ]
    },
    {
     "data": {
      "text/plain": [
       "<keras.callbacks.History at 0x23230607b50>"
      ]
     },
     "execution_count": 35,
     "metadata": {},
     "output_type": "execute_result"
    }
   ],
   "source": [
    "model.fit(x=xTrain, y=yTrain, epochs=10, validation_data=[xTest, yTest])"
   ]
  },
  {
   "cell_type": "code",
   "execution_count": 36,
   "metadata": {},
   "outputs": [
    {
     "data": {
      "image/png": "[encoded data removed]",
      "text/plain": [
       "<Figure size 1600x400 with 1 Axes>"
      ]
     },
     "metadata": {},
     "output_type": "display_data"
    }
   ],
   "source": [
    "pd.DataFrame(model.history.history).plot(figsize=(16, 4))\n",
    "plt.show()"
   ]
  },
  {
   "cell_type": "code",
   "execution_count": 37,
   "metadata": {},
   "outputs": [
    {
     "name": "stdout",
     "output_type": "stream",
     "text": [
      "35/35 [==============================] - 1s 27ms/step\n"
     ]
    }
   ],
   "source": [
    "prediction = (model.predict(xTest)).round()"
   ]
  },
  {
   "cell_type": "markdown",
   "metadata": {},
   "source": [
    "# model evaluation"
   ]
  },
  {
   "cell_type": "code",
   "execution_count": 38,
   "metadata": {},
   "outputs": [],
   "source": [
    "from sklearn.metrics import classification_report, ConfusionMatrixDisplay, accuracy_score"
   ]
  },
  {
   "cell_type": "code",
   "execution_count": 41,
   "metadata": {},
   "outputs": [
    {
     "name": "stdout",
     "output_type": "stream",
     "text": [
      "the accuracy of the model using test data is 0.9865470852017937\n"
     ]
    }
   ],
   "source": [
    "print(f'the accuracy of the model using test data is {accuracy_score(yTest, prediction)}')"
   ]
  },
  {
   "cell_type": "code",
   "execution_count": 42,
   "metadata": {},
   "outputs": [
    {
     "name": "stdout",
     "output_type": "stream",
     "text": [
      "              precision    recall  f1-score   support\n",
      "\n",
      "           0       0.99      1.00      0.99       966\n",
      "           1       0.98      0.92      0.95       149\n",
      "\n",
      "    accuracy                           0.99      1115\n",
      "   macro avg       0.98      0.96      0.97      1115\n",
      "weighted avg       0.99      0.99      0.99      1115\n",
      "\n"
     ]
    }
   ],
   "source": [
    "print(classification_report(yTest, prediction))"
   ]
  },
  {
   "cell_type": "code",
   "execution_count": 43,
   "metadata": {},
   "outputs": [
    {
     "data": {
      "image/png": "[encoded data removed]",
      "text/plain": [
       "<Figure size 640x480 with 2 Axes>"
      ]
     },
     "metadata": {},
     "output_type": "display_data"
    }
   ],
   "source": [
    "ConfusionMatrixDisplay.from_predictions(yTest, prediction)\n",
    "plt.show()"
   ]
  }
 ],
 "metadata": {
  "kernelspec": {
   "display_name": "Python 3",
   "language": "python",
   "name": "python3"
  },
  "language_info": {
   "codemirror_mode": {
    "name": "ipython",
    "version": 3
   },
   "file_extension": ".py",
   "mimetype": "text/x-python",
   "name": "python",
   "nbconvert_exporter": "python",
   "pygments_lexer": "ipython3",
   "version": "3.11.2"
  },
  "orig_nbformat": 4
 },
 "nbformat": 4,
 "nbformat_minor": 2
}
